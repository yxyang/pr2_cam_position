{
 "cells": [
  {
   "cell_type": "markdown",
   "metadata": {},
   "source": [
    "## Try to do ConvNet with Tensorflow"
   ]
  },
  {
   "cell_type": "markdown",
   "metadata": {},
   "source": [
    "Apr.19.2016"
   ]
  },
  {
   "cell_type": "markdown",
   "metadata": {},
   "source": [
    "### 0. Libraries and Data Loading"
   ]
  },
  {
   "cell_type": "code",
   "execution_count": 2,
   "metadata": {
    "collapsed": false
   },
   "outputs": [],
   "source": [
    "import numpy as np, scipy.io, tensorflow as tf, matplotlib.pyplot as plt\n",
    "%matplotlib inline"
   ]
  },
  {
   "cell_type": "code",
   "execution_count": 3,
   "metadata": {
    "collapsed": false
   },
   "outputs": [],
   "source": [
    "data = scipy.io.loadmat('./gazebo_data.mat')\n",
    "X, y = data['images'], data['labels']\n",
    "X = (X - 128) / 255\n",
    "X1 = np.zeros([X.shape[0], X.shape[1] * X.shape[2]])\n",
    "for i in range(X.shape[0]):\n",
    "    X1[i,:] = X[i,:,:].flatten()\n",
    "image_height = X.shape[1]\n",
    "image_width = X.shape[2]\n",
    "\n",
    "X = X1\n",
    "n = y.shape[0]\n",
    "image_size = image_height * image_width\n",
    "labels_count = y.shape[1]"
   ]
  },
  {
   "cell_type": "code",
   "execution_count": 4,
   "metadata": {
    "collapsed": false
   },
   "outputs": [],
   "source": [
    "num_train = n * 4 // 5; num_cv = n - num_train\n",
    "perm = np.random.permutation(n)\n",
    "Xtrain = X[perm[:num_train], :]\n",
    "ytrain = y[perm[:num_train], :]\n",
    "Xcv = X[perm[num_train:], :]\n",
    "ycv = y[perm[num_train:], :]\n"
   ]
  },
  {
   "cell_type": "markdown",
   "metadata": {},
   "source": [
    "### 1. Construction of ConvNet"
   ]
  },
  {
   "cell_type": "code",
   "execution_count": 5,
   "metadata": {
    "collapsed": true
   },
   "outputs": [],
   "source": [
    "def weight_variable(shape):\n",
    "    initial = tf.truncated_normal(shape, stddev = 0.1)\n",
    "    return tf.Variable(initial)\n",
    "def bias_variable(shape):\n",
    "    initial = tf.constant(0.1, shape = shape)\n",
    "    return tf.Variable(initial)\n",
    "def conv2d(x, W):\n",
    "    return tf.nn.conv2d(x, W, strides=[1, 1, 1, 1], padding='SAME')\n",
    "\n",
    "# Probably need to edit this method to speed things up\n",
    "def max_pool_2x2(x):\n",
    "    return tf.nn.max_pool(x, ksize=[1, 2, 2, 1], strides=[1, 2, 2, 1], padding='SAME')"
   ]
  },
  {
   "cell_type": "code",
   "execution_count": 6,
   "metadata": {
    "collapsed": false
   },
   "outputs": [],
   "source": [
    "X = tf.placeholder('float32', shape = [None, image_size])\n",
    "y_ = tf.placeholder('float32', shape = [None, labels_count])"
   ]
  },
  {
   "cell_type": "markdown",
   "metadata": {},
   "source": [
    "First layer (convolution Plus Pooling):"
   ]
  },
  {
   "cell_type": "code",
   "execution_count": 7,
   "metadata": {
    "collapsed": false
   },
   "outputs": [
    {
     "data": {
      "text/plain": [
       "60"
      ]
     },
     "execution_count": 7,
     "metadata": {},
     "output_type": "execute_result"
    }
   ],
   "source": [
    "image_height"
   ]
  },
  {
   "cell_type": "code",
   "execution_count": 8,
   "metadata": {
    "collapsed": false
   },
   "outputs": [],
   "source": [
    "#5 x 5 patches, 1 input channel, 32 output units\n",
    "w_conv1 = weight_variable([10, 10, 1, 64])\n",
    "# bias variable (output of the 1st layer as well)\n",
    "b_conv1 = bias_variable([64])\n",
    "\n",
    "#Reshape to 2d image\n",
    "image = tf.reshape(X, [-1, image_height , image_width, 1])\n",
    "h_conv1 = tf.nn.relu(conv2d(image, w_conv1) + b_conv1)\n",
    "h_pool1 = max_pool_2x2(h_conv1)\n",
    "# First Layer ^ convolution + pooling\n",
    "\n",
    "# Reshape the 32 lin. comb. of inputs of 2nd layer to 4x8 grid for visualization(?)\n",
    "layer1 = tf.reshape(h_conv1, (-1, image_height, image_width, 8 ,8))  \n",
    "layer1 = tf.transpose(layer1, (0, 3, 1, 4, 2))\n",
    "layer1 = tf.reshape(layer1, (-1, image_height*8, image_width*8)) "
   ]
  },
  {
   "cell_type": "markdown",
   "metadata": {},
   "source": [
    "Now, layer 2:"
   ]
  },
  {
   "cell_type": "code",
   "execution_count": 9,
   "metadata": {
    "collapsed": false
   },
   "outputs": [],
   "source": [
    "W_conv2 = weight_variable([5, 5, 64, 64])\n",
    "b_conv2 = bias_variable([64])\n",
    "h_conv2 = tf.nn.relu(conv2d(h_pool1, W_conv2) + b_conv2)\n",
    "h_pool2 = max_pool_2x2(h_conv2)\n",
    "layer2 = tf.reshape(h_conv2, (-1, image_height//2, image_width//2, 4 ,16))  \n",
    "layer2 = tf.transpose(layer2, (0, 3, 1, 4, 2))\n",
    "layer2 = tf.reshape(layer2, (-1, image_height//2*4, image_width//2*16)) "
   ]
  },
  {
   "cell_type": "markdown",
   "metadata": {},
   "source": [
    "Now, layer 3 (A fully connected layer with 1024 neurons):"
   ]
  },
  {
   "cell_type": "code",
   "execution_count": 10,
   "metadata": {
    "collapsed": true
   },
   "outputs": [],
   "source": [
    "W_fc1 = weight_variable([20*15 * 64, 1024])\n",
    "b_fc1 = bias_variable([1024])\n",
    "h_pool2_flat = tf.reshape(h_pool2, [-1, 20*15*64])\n",
    "h_fc1 = tf.nn.relu(tf.matmul(h_pool2_flat, W_fc1) + b_fc1)"
   ]
  },
  {
   "cell_type": "markdown",
   "metadata": {},
   "source": [
    "Dropout to prevent overfitting:"
   ]
  },
  {
   "cell_type": "code",
   "execution_count": 11,
   "metadata": {
    "collapsed": false
   },
   "outputs": [],
   "source": [
    "keep_prob = tf.placeholder('float32')\n",
    "h_fc1_drop = tf.nn.dropout(h_fc1, keep_prob)"
   ]
  },
  {
   "cell_type": "markdown",
   "metadata": {},
   "source": [
    "Last layer (a softmax layer w/ dropout in the front)"
   ]
  },
  {
   "cell_type": "code",
   "execution_count": 12,
   "metadata": {
    "collapsed": true
   },
   "outputs": [],
   "source": [
    "W_fc2 = weight_variable([1024, 1024])\n",
    "b_fc2 = bias_variable([1024])\n",
    "h_fc2 = tf.nn.relu(tf.matmul(h_fc1_drop, W_fc2) + b_fc2)\n",
    "h_fc2_drop = tf.nn.dropout(h_fc2, keep_prob)"
   ]
  },
  {
   "cell_type": "code",
   "execution_count": 13,
   "metadata": {
    "collapsed": false
   },
   "outputs": [],
   "source": [
    "W_fc3 = weight_variable([1024, labels_count])\n",
    "b_fc3 = bias_variable([labels_count])\n",
    "y = tf.matmul(h_fc2_drop, W_fc3) + b_fc3"
   ]
  },
  {
   "cell_type": "markdown",
   "metadata": {},
   "source": [
    "Lost Functions:"
   ]
  },
  {
   "cell_type": "code",
   "execution_count": 14,
   "metadata": {
    "collapsed": false
   },
   "outputs": [],
   "source": [
    "mean_squared = tf.reduce_sum(tf.square(tf.sub(y, y_)))\n",
    "cross_entropy = -tf.reduce_sum(y_*tf.log(y + 0.01))\n",
    "loss = mean_squared\n",
    "LEARNING_RATE = 1e-4\n",
    "train_step = tf.train.AdamOptimizer(LEARNING_RATE).minimize(loss)"
   ]
  },
  {
   "cell_type": "markdown",
   "metadata": {},
   "source": [
    "### 1.Train, validation and predict"
   ]
  },
  {
   "cell_type": "code",
   "execution_count": 15,
   "metadata": {
    "collapsed": false
   },
   "outputs": [],
   "source": [
    "epoches_completed = 0\n",
    "index_in_epoch = 0\n",
    "n = Xtrain.shape[0]\n",
    "def nextBatch(batch_size):\n",
    "    global Xtrain\n",
    "    global ytrain\n",
    "    global index_in_epoch\n",
    "    global epoches_completed\n",
    "    \n",
    "    if (index_in_epoch + batch_size >= n):\n",
    "        epoches_completed += 1\n",
    "        index_in_epoch = 0\n",
    "        perm = np.arange(n)\n",
    "        np.random.shuffle(perm)\n",
    "        Xtrain = Xtrain[perm, :]\n",
    "        ytrain = ytrain[perm, :]\n",
    "    index_in_epoch += batch_size\n",
    "    return Xtrain[index_in_epoch:index_in_epoch + batch_size, :], ytrain[index_in_epoch:index_in_epoch + batch_size, :]\n"
   ]
  },
  {
   "cell_type": "code",
   "execution_count": 16,
   "metadata": {
    "collapsed": true
   },
   "outputs": [],
   "source": [
    "sess = tf.InteractiveSession()"
   ]
  },
  {
   "cell_type": "code",
   "execution_count": null,
   "metadata": {
    "collapsed": false,
    "scrolled": true
   },
   "outputs": [
    {
     "name": "stdout",
     "output_type": "stream",
     "text": [
      "Train cost: 1.08145e+06\n",
      "0 out of 10000 iterations have completed.\n",
      "CV cost: 1.3092e+07\n",
      "Train cost: 158766.0\n",
      "Train cost: 254316.0\n",
      "Train cost: 446731.0\n",
      "Train cost: 324485.0\n",
      "Train cost: 124808.0\n",
      "Train cost: 49292.1\n",
      "Train cost: 43770.4\n",
      "Train cost: 92946.9\n",
      "Train cost: 112528.0\n",
      "Train cost: 157629.0\n",
      "10 out of 10000 iterations have completed.\n"
     ]
    }
   ],
   "source": [
    "init = tf.initialize_all_variables()\n",
    "sess.run(init)\n",
    "num_iter = 10000\n",
    "sample_rate = 10 # Per Sample\n",
    "batch_size = 50\n",
    "cost_history = []\n",
    "for i in range(num_iter):\n",
    "    currX, curry = nextBatch(batch_size)\n",
    "    cost_history.append(loss.eval(feed_dict={X:currX, \\\n",
    "                                          y_: curry, \\\n",
    "                                          keep_prob: 1.0}))\n",
    "    #print(cost_history[-1])\n",
    "    #print(W_fc2.eval())\n",
    "    print(\"Train cost: \" + str(cost_history[-1]))\n",
    "\n",
    "    if (i % sample_rate == 0):\n",
    "        print(str(i) + \" out of \" + str(num_iter) + \" iterations have completed.\")\n",
    "        cv_cost = loss.eval(feed_dict={X:Xcv, \\\n",
    "                                               y_: ycv, \\\n",
    "                                               keep_prob: 1.0})\n",
    "        print(\"CV cost: \" + str(cv_cost))\n",
    "        \n",
    "    sess.run(train_step, feed_dict={X:currX, y_: curry, keep_prob:1.0})"
   ]
  },
  {
   "cell_type": "code",
   "execution_count": null,
   "metadata": {
    "collapsed": false
   },
   "outputs": [],
   "source": [
    "init = tf.initialize_all_variables()\n",
    "sess.run(init)\n",
    "loss.eval(feed_dict={X:Xtrain, \\\n",
    "                                          y_: ytrain, \\\n",
    "                                          keep_prob: 1.0})"
   ]
  },
  {
   "cell_type": "code",
   "execution_count": null,
   "metadata": {
    "collapsed": false
   },
   "outputs": [],
   "source": [
    "Xs, ys = Xtrain[[1],:], ytrain[[1], :]\n",
    "ypred = y.eval(feed_dict={X:Xs, y_:ys, keep_prob:1.0})"
   ]
  },
  {
   "cell_type": "code",
   "execution_count": null,
   "metadata": {
    "collapsed": false
   },
   "outputs": [],
   "source": [
    "print(\"Predicted value is: \" + str(ypred))\n",
    "print(\"Actual value is: \" + str(ys))"
   ]
  },
  {
   "cell_type": "code",
   "execution_count": null,
   "metadata": {
    "collapsed": false
   },
   "outputs": [],
   "source": []
  },
  {
   "cell_type": "code",
   "execution_count": null,
   "metadata": {
    "collapsed": true
   },
   "outputs": [],
   "source": []
  },
  {
   "cell_type": "code",
   "execution_count": null,
   "metadata": {
    "collapsed": true
   },
   "outputs": [],
   "source": []
  }
 ],
 "metadata": {
  "kernelspec": {
   "display_name": "Python 3",
   "language": "python",
   "name": "python3"
  },
  "language_info": {
   "codemirror_mode": {
    "name": "ipython",
    "version": 3
   },
   "file_extension": ".py",
   "mimetype": "text/x-python",
   "name": "python",
   "nbconvert_exporter": "python",
   "pygments_lexer": "ipython3",
   "version": "3.5.0"
  }
 },
 "nbformat": 4,
 "nbformat_minor": 0
}
