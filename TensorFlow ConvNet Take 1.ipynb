{
 "cells": [
  {
   "cell_type": "markdown",
   "metadata": {},
   "source": [
    "## Try to do ConvNet with Tensorflow"
   ]
  },
  {
   "cell_type": "markdown",
   "metadata": {},
   "source": [
    "Apr.19.2016"
   ]
  },
  {
   "cell_type": "markdown",
   "metadata": {},
   "source": [
    "### 0. Libraries and Data Loading"
   ]
  },
  {
   "cell_type": "code",
   "execution_count": 1,
   "metadata": {
    "collapsed": false
   },
   "outputs": [],
   "source": [
    "import numpy as np, scipy.io, tensorflow as tf, matplotlib.pyplot as plt\n",
    "%matplotlib inline"
   ]
  },
  {
   "cell_type": "code",
   "execution_count": 2,
   "metadata": {
    "collapsed": false
   },
   "outputs": [],
   "source": [
    "data = scipy.io.loadmat('./gazebo_data.mat')\n",
    "X, y = data['images'], data['labels']\n",
    "X = (X - 128) / 255\n",
    "X1 = np.zeros([X.shape[0], X.shape[1] * X.shape[2]])\n",
    "for i in range(X.shape[0]):\n",
    "    X1[i,:] = X[i,:,:].flatten()\n",
    "image_height = X.shape[1]\n",
    "image_width = X.shape[2]\n",
    "\n",
    "X = X1\n",
    "n = y.shape[0]\n",
    "image_size = image_height * image_width\n",
    "labels_count = y.shape[1]"
   ]
  },
  {
   "cell_type": "code",
   "execution_count": 3,
   "metadata": {
    "collapsed": false
   },
   "outputs": [],
   "source": [
    "num_train = n * 4 // 5; num_cv = n - num_train\n",
    "#perm = np.random.permutation(n)\n",
    "#print(perm)\n",
    "perm = np.arange(n-1)\n",
    "#print(perm[:num_train])\n",
    "Xtrain = X[perm[:num_train], :]\n",
    "ytrain = y[perm[:num_train], :]\n",
    "Xcv = X[perm[num_train:], :]\n",
    "ycv = y[perm[num_train:], :]\n"
   ]
  },
  {
   "cell_type": "markdown",
   "metadata": {},
   "source": [
    "### 1. Construction of ConvNet"
   ]
  },
  {
   "cell_type": "code",
   "execution_count": 4,
   "metadata": {
    "collapsed": true
   },
   "outputs": [],
   "source": [
    "def weight_variable(shape):\n",
    "    initial = tf.truncated_normal(shape, stddev = 0.1)\n",
    "    return tf.Variable(initial)\n",
    "def bias_variable(shape):\n",
    "    initial = tf.constant(0.1, shape = shape)\n",
    "    return tf.Variable(initial)\n",
    "def conv2d(x, W):\n",
    "    return tf.nn.conv2d(x, W, strides=[1, 1, 1, 1], padding='SAME')\n",
    "\n",
    "# Probably need to edit this method to speed things up\n",
    "def max_pool_2x2(x):\n",
    "    return tf.nn.max_pool(x, ksize=[1, 2, 2, 1], strides=[1, 2, 2, 1], padding='SAME')"
   ]
  },
  {
   "cell_type": "code",
   "execution_count": 5,
   "metadata": {
    "collapsed": false
   },
   "outputs": [],
   "source": [
    "X = tf.placeholder('float32', shape = [None, image_size])\n",
    "y_ = tf.placeholder('float32', shape = [None, labels_count])"
   ]
  },
  {
   "cell_type": "markdown",
   "metadata": {},
   "source": [
    "First layer (convolution Plus Pooling):"
   ]
  },
  {
   "cell_type": "code",
   "execution_count": 6,
   "metadata": {
    "collapsed": false
   },
   "outputs": [
    {
     "data": {
      "text/plain": [
       "60"
      ]
     },
     "execution_count": 6,
     "metadata": {},
     "output_type": "execute_result"
    }
   ],
   "source": [
    "image_height"
   ]
  },
  {
   "cell_type": "code",
   "execution_count": 7,
   "metadata": {
    "collapsed": false
   },
   "outputs": [],
   "source": [
    "#5 x 5 patches, 1 input channel, 32 output units\n",
    "#We train 32 filters for the first layer\n",
    "w_conv1 = weight_variable([10, 10, 1, 32])\n",
    "# bias variable (output of the 1st layer as well)\n",
    "b_conv1 = bias_variable([32])\n",
    "\n",
    "#Reshape to 2d image\n",
    "image = tf.reshape(X, [-1, image_height , image_width, 1])\n",
    "h_conv1 = tf.nn.relu(conv2d(image, w_conv1) + b_conv1)\n",
    "h_pool1 = max_pool_2x2(h_conv1)\n",
    "# First Layer ^ convolution + pooling\n",
    "\n",
    "# Reshape the 32 lin. comb. of inputs of 2nd layer to 4x8 grid for visualization(?)\n",
    "layer1 = tf.reshape(h_conv1, (-1, image_height, image_width, 8 ,8))  \n",
    "layer1 = tf.transpose(layer1, (0, 3, 1, 4, 2)) # Permute the dimension\n",
    "layer1 = tf.reshape(layer1, (-1, image_height*8, image_width*8)) "
   ]
  },
  {
   "cell_type": "markdown",
   "metadata": {},
   "source": [
    "Now, layer 2:"
   ]
  },
  {
   "cell_type": "code",
   "execution_count": 8,
   "metadata": {
    "collapsed": false
   },
   "outputs": [],
   "source": [
    "W_conv2 = weight_variable([5, 5, 32, 32])\n",
    "b_conv2 = bias_variable([32])\n",
    "h_conv2 = tf.nn.relu(conv2d(h_pool1, W_conv2) + b_conv2)\n",
    "h_pool2 = max_pool_2x2(h_conv2)\n",
    "layer2 = tf.reshape(h_conv2, (-1, image_height//2, image_width//2, 4 ,16))  \n",
    "layer2 = tf.transpose(layer2, (0, 3, 1, 4, 2))\n",
    "layer2 = tf.reshape(layer2, (-1, image_height//2*4, image_width//2*16)) "
   ]
  },
  {
   "cell_type": "markdown",
   "metadata": {},
   "source": [
    "Now, layer 3 (A fully connected layer with 1024 neurons):"
   ]
  },
  {
   "cell_type": "code",
   "execution_count": 9,
   "metadata": {
    "collapsed": false
   },
   "outputs": [],
   "source": [
    "W_fc1 = weight_variable([20*15 * 32, 200])\n",
    "b_fc1 = bias_variable([200])\n",
    "h_pool2_flat = tf.reshape(h_pool2, [-1, 20*15*32])\n",
    "h_fc1 = tf.nn.relu(tf.matmul(h_pool2_flat, W_fc1) + b_fc1)"
   ]
  },
  {
   "cell_type": "markdown",
   "metadata": {},
   "source": [
    "Dropout to prevent overfitting:"
   ]
  },
  {
   "cell_type": "code",
   "execution_count": 10,
   "metadata": {
    "collapsed": false
   },
   "outputs": [],
   "source": [
    "keep_prob = tf.placeholder('float32')\n",
    "h_fc1_drop = tf.nn.dropout(h_fc1, keep_prob)"
   ]
  },
  {
   "cell_type": "markdown",
   "metadata": {},
   "source": [
    "Last layer (a softmax layer w/ dropout in the front)"
   ]
  },
  {
   "cell_type": "code",
   "execution_count": 14,
   "metadata": {
    "collapsed": false
   },
   "outputs": [],
   "source": [
    "W_fc2 = weight_variable([200, 200])\n",
    "b_fc2 = bias_variable([200])\n",
    "h_fc2 = tf.nn.relu(tf.matmul(h_fc1_drop, W_fc2) + b_fc2)\n",
    "h_fc2_drop = tf.nn.dropout(h_fc2, keep_prob)"
   ]
  },
  {
   "cell_type": "code",
   "execution_count": 17,
   "metadata": {
    "collapsed": false
   },
   "outputs": [],
   "source": [
    "W_fc3 = weight_variable([200, labels_count])\n",
    "b_fc3 = bias_variable([labels_count])\n",
    "y = tf.matmul(h_fc2_drop, W_fc3) + b_fc3"
   ]
  },
  {
   "cell_type": "markdown",
   "metadata": {},
   "source": [
    "Lost Functions:"
   ]
  },
  {
   "cell_type": "code",
   "execution_count": null,
   "metadata": {
    "collapsed": false
   },
   "outputs": [],
   "source": [
    "beta = 10 #Scaling factor in order to balance the loss btw position and angle\n",
    "pos_hat, pos = tf.slice(y, [0, 0], [-1, 3]), tf.slice(y_, [0, 0], [-1, 3])\n",
    "ang_hat, ang = tf.slice(y, [0, 3], [-1, 3]), tf.slice(y_, [0, 3], [-1, 3])\n",
    "mean_squared = tf.reduce_sum((pos_hat - pos) ** 2) + beta * tf.reduce_sum((ang_hat - ang) ** 2)\n",
    "loss = mean_squared\n",
    "LEARNING_RATE = 1e-5\n",
    "train_step = tf.train.AdamOptimizer(LEARNING_RATE).minimize(loss)"
   ]
  },
  {
   "cell_type": "markdown",
   "metadata": {},
   "source": [
    "### 1.Train, validation and predict"
   ]
  },
  {
   "cell_type": "code",
   "execution_count": 19,
   "metadata": {
    "collapsed": false
   },
   "outputs": [],
   "source": [
    "epoches_completed = 0\n",
    "index_in_epoch = 0\n",
    "n = Xtrain.shape[0]\n",
    "def nextBatch(batch_size):\n",
    "    global Xtrain\n",
    "    global ytrain\n",
    "    global index_in_epoch\n",
    "    global epoches_completed\n",
    "    \n",
    "    if (index_in_epoch + batch_size >= n):\n",
    "        epoches_completed += 1\n",
    "        index_in_epoch = 0\n",
    "        perm = np.arange(n)\n",
    "        np.random.shuffle(perm)\n",
    "        Xtrain = Xtrain[perm, :]\n",
    "        ytrain = ytrain[perm, :]\n",
    "    index_in_epoch += batch_size\n",
    "    return Xtrain[index_in_epoch:index_in_epoch + batch_size, :], ytrain[index_in_epoch:index_in_epoch + batch_size, :]\n"
   ]
  },
  {
   "cell_type": "code",
   "execution_count": 20,
   "metadata": {
    "collapsed": false
   },
   "outputs": [],
   "source": [
    "sess = tf.InteractiveSession()"
   ]
  },
  {
   "cell_type": "code",
   "execution_count": 23,
   "metadata": {
    "collapsed": false,
    "scrolled": true
   },
   "outputs": [
    {
     "name": "stdout",
     "output_type": "stream",
     "text": [
      "Train cost: 72290.9\n",
      "0 out of 10000 iterations have completed.\n",
      "CV cost: 667877.0\n",
      "Train cost: 37188.9\n",
      "Train cost: 15348.3\n",
      "Train cost: 10063.8\n",
      "Train cost: 15098.7\n",
      "Train cost: 17519.0\n",
      "Train cost: 19259.3\n",
      "Train cost: 19684.9\n",
      "Train cost: 13201.7\n",
      "Train cost: 9137.67\n",
      "Train cost: 7569.96\n",
      "10 out of 10000 iterations have completed.\n",
      "CV cost: 145263.0\n",
      "Train cost: 4503.54\n",
      "Train cost: 4292.31\n",
      "Train cost: 3672.78\n",
      "Train cost: 4114.77\n",
      "Train cost: 3436.51\n",
      "Train cost: 3616.86\n",
      "Train cost: 3859.44\n",
      "Train cost: 4648.47\n",
      "Train cost: 3703.4\n",
      "Train cost: 3423.91\n",
      "20 out of 10000 iterations have completed.\n",
      "CV cost: 108272.0\n",
      "Train cost: 3303.68\n",
      "Train cost: 2895.04\n",
      "Train cost: 2758.28\n",
      "Train cost: 1935.67\n",
      "Train cost: 1924.86\n",
      "Train cost: 1590.93\n",
      "Train cost: 1499.4\n",
      "Train cost: 1714.63\n",
      "Train cost: 1793.4\n",
      "Train cost: 1500.8\n",
      "30 out of 10000 iterations have completed.\n",
      "CV cost: 70197.4\n",
      "Train cost: 1659.17\n",
      "Train cost: 1539.88\n",
      "Train cost: 1725.08\n",
      "Train cost: 1426.65\n",
      "Train cost: 1216.18\n",
      "Train cost: 1372.61\n",
      "Train cost: 1085.84\n",
      "Train cost: 1045.35\n",
      "Train cost: 1027.45\n",
      "Train cost: 1284.51\n",
      "40 out of 10000 iterations have completed.\n",
      "CV cost: 73728.6\n",
      "Train cost: 1005.01\n",
      "Train cost: 852.726\n",
      "Train cost: 1089.19\n",
      "Train cost: 1064.86\n",
      "Train cost: 1033.18\n",
      "Train cost: 986.435\n",
      "Train cost: 992.473\n",
      "Train cost: 1010.49\n",
      "Train cost: 1073.56\n",
      "Train cost: 920.961\n",
      "50 out of 10000 iterations have completed.\n",
      "CV cost: 73216.1\n",
      "Train cost: 708.958\n",
      "Train cost: 727.776\n",
      "Train cost: 843.482\n",
      "Train cost: 732.444\n",
      "Train cost: 857.289\n",
      "Train cost: 903.094\n",
      "Train cost: 795.677\n",
      "Train cost: 802.96\n",
      "Train cost: 793.438\n",
      "Train cost: 747.297\n",
      "60 out of 10000 iterations have completed.\n",
      "CV cost: 65908.7\n",
      "Train cost: 797.43\n",
      "Train cost: 683.12\n",
      "Train cost: 746.281\n",
      "Train cost: 677.017\n",
      "Train cost: 718.823\n",
      "Train cost: 750.214\n",
      "Train cost: 627.052\n",
      "Train cost: 701.416\n",
      "Train cost: 601.816\n",
      "Train cost: 756.057\n",
      "70 out of 10000 iterations have completed.\n",
      "CV cost: 62419.8\n",
      "Train cost: 811.72\n",
      "Train cost: 641.374\n",
      "Train cost: 655.128\n",
      "Train cost: 676.823\n",
      "Train cost: 672.536\n",
      "Train cost: 606.253\n",
      "Train cost: 656.067\n",
      "Train cost: 660.636\n",
      "Train cost: 646.62\n",
      "Train cost: 513.872\n",
      "80 out of 10000 iterations have completed.\n",
      "CV cost: 66271.1\n",
      "Train cost: 498.9\n",
      "Train cost: 613.449\n",
      "Train cost: 639.754\n",
      "Train cost: 557.567\n",
      "Train cost: 587.442\n",
      "Train cost: 626.639\n",
      "Train cost: 464.659\n",
      "Train cost: 586.35\n",
      "Train cost: 575.01\n",
      "Train cost: 615.568\n",
      "90 out of 10000 iterations have completed.\n",
      "CV cost: 67845.2\n",
      "Train cost: 580.708\n",
      "Train cost: 479.03\n",
      "Train cost: 486.401\n",
      "Train cost: 577.779\n",
      "Train cost: 566.205\n",
      "Train cost: 520.469\n",
      "Train cost: 517.785\n",
      "Train cost: 490.939\n",
      "Train cost: 509.493\n",
      "Train cost: 464.144\n",
      "100 out of 10000 iterations have completed.\n",
      "CV cost: 65702.6\n",
      "Train cost: 561.698\n",
      "Train cost: 561.904\n",
      "Train cost: 467.358\n",
      "Train cost: 479.131\n",
      "Train cost: 523.504\n",
      "Train cost: 656.183\n",
      "Train cost: 464.803\n",
      "Train cost: 556.643\n",
      "Train cost: 493.419\n",
      "Train cost: 556.868\n",
      "110 out of 10000 iterations have completed.\n",
      "CV cost: 63434.8\n",
      "Train cost: 455.145\n",
      "Train cost: 468.653\n",
      "Train cost: 540.546\n",
      "Train cost: 439.533\n",
      "Train cost: 429.94\n",
      "Train cost: 433.845\n",
      "Train cost: 524.358\n",
      "Train cost: 469.269\n",
      "Train cost: 548.489\n",
      "Train cost: 433.026\n",
      "120 out of 10000 iterations have completed.\n",
      "CV cost: 66202.5\n",
      "Train cost: 465.002\n",
      "Train cost: 468.856\n",
      "Train cost: 413.405\n",
      "Train cost: 440.564\n",
      "Train cost: 415.924\n",
      "Train cost: 435.988\n",
      "Train cost: 379.826\n",
      "Train cost: 431.287\n",
      "Train cost: 366.546\n",
      "Train cost: 502.274\n",
      "130 out of 10000 iterations have completed.\n",
      "CV cost: 66728.9\n",
      "Train cost: 385.181\n",
      "Train cost: 449.811\n",
      "Train cost: 459.588\n",
      "Train cost: 410.696\n",
      "Train cost: 452.264\n",
      "Train cost: 414.516\n",
      "Train cost: 367.248\n",
      "Train cost: 368.634\n",
      "Train cost: 415.419\n",
      "Train cost: 348.797\n",
      "140 out of 10000 iterations have completed.\n",
      "CV cost: 60820.3\n",
      "Train cost: 423.363\n",
      "Train cost: 356.951\n",
      "Train cost: 350.609\n",
      "Train cost: 362.595\n",
      "Train cost: 380.045\n",
      "Train cost: 396.945\n",
      "Train cost: 416.697\n",
      "Train cost: 382.192\n",
      "Train cost: 428.416\n",
      "Train cost: 332.744\n",
      "150 out of 10000 iterations have completed.\n",
      "CV cost: 61695.2\n",
      "Train cost: 472.202\n",
      "Train cost: 327.678\n",
      "Train cost: 454.033\n",
      "Train cost: 483.303\n",
      "Train cost: 450.965\n",
      "Train cost: 373.802\n",
      "Train cost: 437.149\n",
      "Train cost: 343.223\n",
      "Train cost: 359.529\n",
      "Train cost: 318.017\n",
      "160 out of 10000 iterations have completed.\n",
      "CV cost: 60602.6\n",
      "Train cost: 341.847\n",
      "Train cost: 380.041\n",
      "Train cost: 329.397\n",
      "Train cost: 332.006\n",
      "Train cost: 378.75\n",
      "Train cost: 350.187\n",
      "Train cost: 392.807\n",
      "Train cost: 317.918\n",
      "Train cost: 376.743\n",
      "Train cost: 340.629\n",
      "170 out of 10000 iterations have completed.\n",
      "CV cost: 64990.8\n",
      "Train cost: 385.535\n",
      "Train cost: 379.462\n",
      "Train cost: 305.243\n",
      "Train cost: 277.889\n",
      "Train cost: 323.777\n",
      "Train cost: 376.001\n",
      "Train cost: 296.992\n",
      "Train cost: 273.246\n",
      "Train cost: 299.13\n",
      "Train cost: 306.979\n",
      "180 out of 10000 iterations have completed.\n",
      "CV cost: 61592.7\n",
      "Train cost: 318.218\n",
      "Train cost: 289.092\n",
      "Train cost: 288.429\n",
      "Train cost: 352.895\n",
      "Train cost: 341.535\n",
      "Train cost: 308.695\n",
      "Train cost: 356.764\n",
      "Train cost: 359.268\n",
      "Train cost: 296.423\n",
      "Train cost: 324.783\n",
      "190 out of 10000 iterations have completed.\n",
      "CV cost: 58841.9\n",
      "Train cost: 354.748\n",
      "Train cost: 357.111\n",
      "Train cost: 376.227\n",
      "Train cost: 305.945\n",
      "Train cost: 312.399\n",
      "Train cost: 328.983\n",
      "Train cost: 312.385\n",
      "Train cost: 300.201\n",
      "Train cost: 343.304\n",
      "Train cost: 358.168\n",
      "200 out of 10000 iterations have completed.\n",
      "CV cost: 56795.0\n",
      "Train cost: 314.061\n",
      "Train cost: 269.392\n",
      "Train cost: 343.609\n",
      "Train cost: 308.403\n",
      "Train cost: 420.519\n",
      "Train cost: 401.013\n",
      "Train cost: 266.476\n",
      "Train cost: 330.729\n",
      "Train cost: 320.578\n",
      "Train cost: 271.686\n",
      "210 out of 10000 iterations have completed.\n",
      "CV cost: 57899.5\n",
      "Train cost: 247.731\n",
      "Train cost: 291.474\n",
      "Train cost: 269.947\n",
      "Train cost: 312.307\n",
      "Train cost: 275.543\n",
      "Train cost: 262.581\n",
      "Train cost: 369.152\n",
      "Train cost: 333.817\n",
      "Train cost: 328.195\n",
      "Train cost: 228.467\n",
      "220 out of 10000 iterations have completed.\n",
      "CV cost: 58362.4\n",
      "Train cost: 301.809\n",
      "Train cost: 335.846\n",
      "Train cost: 291.41\n",
      "Train cost: 296.18\n",
      "Train cost: 279.923\n",
      "Train cost: 298.55\n",
      "Train cost: 260.009\n",
      "Train cost: 303.608\n",
      "Train cost: 278.358\n",
      "Train cost: 251.2\n",
      "230 out of 10000 iterations have completed.\n",
      "CV cost: 57611.7\n",
      "Train cost: 219.843\n",
      "Train cost: 277.342\n",
      "Train cost: 318.465\n",
      "Train cost: 307.42\n",
      "Train cost: 277.654\n",
      "Train cost: 272.915\n",
      "Train cost: 342.985\n",
      "Train cost: 301.295\n",
      "Train cost: 247.663\n",
      "Train cost: 258.833\n",
      "240 out of 10000 iterations have completed.\n",
      "CV cost: 57738.5\n",
      "Train cost: 274.717\n",
      "Train cost: 274.055\n",
      "Train cost: 223.775\n",
      "Train cost: 325.128\n",
      "Train cost: 279.577\n",
      "Train cost: 225.396\n",
      "Train cost: 251.88\n",
      "Train cost: 314.452\n",
      "Train cost: 268.211\n",
      "Train cost: 279.768\n",
      "250 out of 10000 iterations have completed.\n",
      "CV cost: 58538.0\n",
      "Train cost: 309.859\n",
      "Train cost: 261.123\n",
      "Train cost: 225.832\n",
      "Train cost: 207.711\n",
      "Train cost: 284.479\n",
      "Train cost: 262.467\n",
      "Train cost: 220.97\n",
      "Train cost: 244.865\n",
      "Train cost: 247.532\n",
      "Train cost: 252.516\n",
      "260 out of 10000 iterations have completed.\n",
      "CV cost: 56131.2\n",
      "Train cost: 203.158\n",
      "Train cost: 263.146\n",
      "Train cost: 242.029\n",
      "Train cost: 294.195\n",
      "Train cost: 229.654\n",
      "Train cost: 278.629\n",
      "Train cost: 323.387\n",
      "Train cost: 211.91\n",
      "Train cost: 237.04\n",
      "Train cost: 263.463\n",
      "270 out of 10000 iterations have completed.\n",
      "CV cost: 56910.7\n",
      "Train cost: 220.86\n",
      "Train cost: 240.811\n",
      "Train cost: 347.05\n",
      "Train cost: 226.003\n",
      "Train cost: 296.045\n",
      "Train cost: 262.35\n",
      "Train cost: 339.507\n",
      "Train cost: 217.776\n",
      "Train cost: 274.438\n",
      "Train cost: 267.302\n",
      "280 out of 10000 iterations have completed.\n",
      "CV cost: 57098.9\n",
      "Train cost: 223.628\n",
      "Train cost: 232.362\n",
      "Train cost: 272.445\n",
      "Train cost: 249.102\n",
      "Train cost: 254.093\n",
      "Train cost: 234.094\n",
      "Train cost: 226.258\n",
      "Train cost: 242.1\n",
      "Train cost: 254.116\n",
      "Train cost: 231.4\n",
      "290 out of 10000 iterations have completed.\n",
      "CV cost: 55970.8\n",
      "Train cost: 245.518\n",
      "Train cost: 202.223\n",
      "Train cost: 233.122\n",
      "Train cost: 201.044\n",
      "Train cost: 246.741\n",
      "Train cost: 226.629\n",
      "Train cost: 252.505\n",
      "Train cost: 234.598\n",
      "Train cost: 243.209\n",
      "Train cost: 188.915\n",
      "300 out of 10000 iterations have completed.\n",
      "CV cost: 53836.1\n",
      "Train cost: 206.919\n",
      "Train cost: 195.477\n",
      "Train cost: 292.189\n",
      "Train cost: 304.318\n",
      "Train cost: 250.611\n",
      "Train cost: 201.186\n",
      "Train cost: 272.791\n",
      "Train cost: 218.429\n",
      "Train cost: 252.641\n",
      "Train cost: 255.137\n",
      "310 out of 10000 iterations have completed.\n",
      "CV cost: 53255.1\n",
      "Train cost: 200.605\n",
      "Train cost: 217.522\n",
      "Train cost: 188.725\n",
      "Train cost: 216.317\n",
      "Train cost: 217.174\n",
      "Train cost: 232.354\n",
      "Train cost: 227.652\n",
      "Train cost: 255.892\n",
      "Train cost: 189.392\n",
      "Train cost: 277.766\n",
      "320 out of 10000 iterations have completed.\n",
      "CV cost: 53056.5\n",
      "Train cost: 238.112\n",
      "Train cost: 234.918\n",
      "Train cost: 200.57\n",
      "Train cost: 240.768\n",
      "Train cost: 304.793\n",
      "Train cost: 256.369\n",
      "Train cost: 212.364\n",
      "Train cost: 215.958\n",
      "Train cost: 232.566\n",
      "Train cost: 236.628\n",
      "330 out of 10000 iterations have completed.\n",
      "CV cost: 51657.6\n",
      "Train cost: 177.493\n",
      "Train cost: 221.443\n",
      "Train cost: 227.763\n",
      "Train cost: 229.559\n",
      "Train cost: 159.476\n",
      "Train cost: 206.769\n",
      "Train cost: 174.505\n",
      "Train cost: 187.547\n",
      "Train cost: 208.303\n",
      "Train cost: 223.696\n",
      "340 out of 10000 iterations have completed.\n",
      "CV cost: 53408.9\n",
      "Train cost: 206.904\n",
      "Train cost: 242.568\n",
      "Train cost: 217.395\n",
      "Train cost: 249.773\n",
      "Train cost: 248.44\n",
      "Train cost: 214.471\n",
      "Train cost: 216.874\n",
      "Train cost: 223.203\n",
      "Train cost: 185.695\n",
      "Train cost: 179.098\n",
      "350 out of 10000 iterations have completed.\n",
      "CV cost: 54535.7\n",
      "Train cost: 191.641\n",
      "Train cost: 229.83\n",
      "Train cost: 199.307\n",
      "Train cost: 240.825\n",
      "Train cost: 222.104\n",
      "Train cost: 204.659\n",
      "Train cost: 276.498\n",
      "Train cost: 195.155\n",
      "Train cost: 213.903\n",
      "Train cost: 237.546\n",
      "360 out of 10000 iterations have completed.\n",
      "CV cost: 52713.7\n",
      "Train cost: 218.455\n",
      "Train cost: 208.097\n",
      "Train cost: 206.269\n",
      "Train cost: 222.955\n",
      "Train cost: 197.606\n",
      "Train cost: 217.117\n",
      "Train cost: 219.401\n",
      "Train cost: 175.103\n",
      "Train cost: 279.766\n",
      "Train cost: 225.107\n",
      "370 out of 10000 iterations have completed.\n",
      "CV cost: 53349.5\n",
      "Train cost: 181.375\n",
      "Train cost: 205.257\n",
      "Train cost: 170.477\n",
      "Train cost: 208.838\n",
      "Train cost: 154.811\n",
      "Train cost: 169.259\n",
      "Train cost: 211.279\n",
      "Train cost: 222.328\n",
      "Train cost: 195.955\n",
      "Train cost: 174.022\n",
      "380 out of 10000 iterations have completed.\n",
      "CV cost: 53815.2\n",
      "Train cost: 242.668\n",
      "Train cost: 242.192\n",
      "Train cost: 206.67\n",
      "Train cost: 230.569\n",
      "Train cost: 167.204\n",
      "Train cost: 186.276\n",
      "Train cost: 179.688\n",
      "Train cost: 155.791\n",
      "Train cost: 181.869\n",
      "Train cost: 198.137\n",
      "390 out of 10000 iterations have completed.\n",
      "CV cost: 54344.6\n",
      "Train cost: 244.069\n",
      "Train cost: 216.198\n",
      "Train cost: 177.198\n",
      "Train cost: 185.622\n",
      "Train cost: 183.302\n",
      "Train cost: 236.424\n",
      "Train cost: 177.49\n",
      "Train cost: 210.845\n",
      "Train cost: 202.584\n",
      "Train cost: 189.766\n",
      "400 out of 10000 iterations have completed.\n",
      "CV cost: 53975.5\n",
      "Train cost: 175.869\n",
      "Train cost: 186.783\n",
      "Train cost: 198.367\n",
      "Train cost: 228.443\n",
      "Train cost: 191.043\n",
      "Train cost: 200.562\n",
      "Train cost: 218.618\n",
      "Train cost: 234.395\n",
      "Train cost: 165.736\n",
      "Train cost: 176.011\n",
      "410 out of 10000 iterations have completed.\n",
      "CV cost: 50546.8\n",
      "Train cost: 197.029\n",
      "Train cost: 182.758\n",
      "Train cost: 200.291\n",
      "Train cost: 200.263\n",
      "Train cost: 209.065\n",
      "Train cost: 218.091\n",
      "Train cost: 185.409\n",
      "Train cost: 149.61\n",
      "Train cost: 166.551\n",
      "Train cost: 218.093\n",
      "420 out of 10000 iterations have completed.\n",
      "CV cost: 53276.6\n",
      "Train cost: 166.135\n",
      "Train cost: 184.058\n",
      "Train cost: 193.094\n",
      "Train cost: 214.543\n",
      "Train cost: 182.121\n",
      "Train cost: 193.874\n",
      "Train cost: 174.575\n",
      "Train cost: 210.023\n",
      "Train cost: 169.632\n",
      "Train cost: 163.592\n",
      "430 out of 10000 iterations have completed.\n",
      "CV cost: 52707.1\n",
      "Train cost: 231.775\n",
      "Train cost: 166.419\n",
      "Train cost: 170.198\n",
      "Train cost: 174.236\n",
      "Train cost: 177.517\n",
      "Train cost: 157.963\n",
      "Train cost: 163.739\n",
      "Train cost: 200.006\n"
     ]
    },
    {
     "ename": "KeyboardInterrupt",
     "evalue": "",
     "output_type": "error",
     "traceback": [
      "\u001b[0;31m---------------------------------------------------------------------------\u001b[0m",
      "\u001b[0;31mKeyboardInterrupt\u001b[0m                         Traceback (most recent call last)",
      "\u001b[0;32m<ipython-input-23-fe1fed81ee73>\u001b[0m in \u001b[0;36m<module>\u001b[0;34m()\u001b[0m\n\u001b[1;32m     17\u001b[0m         \u001b[0mprint\u001b[0m\u001b[0;34m(\u001b[0m\u001b[0;34m\"CV cost: \"\u001b[0m \u001b[0;34m+\u001b[0m \u001b[0mstr\u001b[0m\u001b[0;34m(\u001b[0m\u001b[0mcv_cost\u001b[0m\u001b[0;34m)\u001b[0m\u001b[0;34m)\u001b[0m\u001b[0;34m\u001b[0m\u001b[0m\n\u001b[1;32m     18\u001b[0m \u001b[0;34m\u001b[0m\u001b[0m\n\u001b[0;32m---> 19\u001b[0;31m     \u001b[0msess\u001b[0m\u001b[0;34m.\u001b[0m\u001b[0mrun\u001b[0m\u001b[0;34m(\u001b[0m\u001b[0mtrain_step\u001b[0m\u001b[0;34m,\u001b[0m \u001b[0mfeed_dict\u001b[0m\u001b[0;34m=\u001b[0m\u001b[0;34m{\u001b[0m\u001b[0mX\u001b[0m\u001b[0;34m:\u001b[0m\u001b[0mcurrX\u001b[0m\u001b[0;34m,\u001b[0m \u001b[0my_\u001b[0m\u001b[0;34m:\u001b[0m \u001b[0mcurry\u001b[0m\u001b[0;34m,\u001b[0m \u001b[0mkeep_prob\u001b[0m\u001b[0;34m:\u001b[0m\u001b[0;36m1\u001b[0m\u001b[0;34m}\u001b[0m\u001b[0;34m)\u001b[0m\u001b[0;34m\u001b[0m\u001b[0m\n\u001b[0m",
      "\u001b[0;32m/Users/yxyang/.pyenv/versions/3.5.0/lib/python3.5/site-packages/tensorflow/python/client/session.py\u001b[0m in \u001b[0;36mrun\u001b[0;34m(self, fetches, feed_dict, options, run_metadata)\u001b[0m\n\u001b[1;32m    338\u001b[0m     \u001b[0;32mtry\u001b[0m\u001b[0;34m:\u001b[0m\u001b[0;34m\u001b[0m\u001b[0m\n\u001b[1;32m    339\u001b[0m       result = self._run(None, fetches, feed_dict, options_ptr,\n\u001b[0;32m--> 340\u001b[0;31m                          run_metadata_ptr)\n\u001b[0m\u001b[1;32m    341\u001b[0m       \u001b[0;32mif\u001b[0m \u001b[0mrun_metadata\u001b[0m\u001b[0;34m:\u001b[0m\u001b[0;34m\u001b[0m\u001b[0m\n\u001b[1;32m    342\u001b[0m         \u001b[0mproto_data\u001b[0m \u001b[0;34m=\u001b[0m \u001b[0mtf_session\u001b[0m\u001b[0;34m.\u001b[0m\u001b[0mTF_GetBuffer\u001b[0m\u001b[0;34m(\u001b[0m\u001b[0mrun_metadata_ptr\u001b[0m\u001b[0;34m)\u001b[0m\u001b[0;34m\u001b[0m\u001b[0m\n",
      "\u001b[0;32m/Users/yxyang/.pyenv/versions/3.5.0/lib/python3.5/site-packages/tensorflow/python/client/session.py\u001b[0m in \u001b[0;36m_run\u001b[0;34m(self, handle, fetches, feed_dict, options, run_metadata)\u001b[0m\n\u001b[1;32m    562\u001b[0m     \u001b[0;32mtry\u001b[0m\u001b[0;34m:\u001b[0m\u001b[0;34m\u001b[0m\u001b[0m\n\u001b[1;32m    563\u001b[0m       results = self._do_run(handle, target_list, unique_fetches,\n\u001b[0;32m--> 564\u001b[0;31m                              feed_dict_string, options, run_metadata)\n\u001b[0m\u001b[1;32m    565\u001b[0m     \u001b[0;32mfinally\u001b[0m\u001b[0;34m:\u001b[0m\u001b[0;34m\u001b[0m\u001b[0m\n\u001b[1;32m    566\u001b[0m       \u001b[0;31m# The movers are no longer used. Delete them.\u001b[0m\u001b[0;34m\u001b[0m\u001b[0;34m\u001b[0m\u001b[0m\n",
      "\u001b[0;32m/Users/yxyang/.pyenv/versions/3.5.0/lib/python3.5/site-packages/tensorflow/python/client/session.py\u001b[0m in \u001b[0;36m_do_run\u001b[0;34m(self, handle, target_list, fetch_list, feed_dict, options, run_metadata)\u001b[0m\n\u001b[1;32m    635\u001b[0m     \u001b[0;32mif\u001b[0m \u001b[0mhandle\u001b[0m \u001b[0;32mis\u001b[0m \u001b[0;32mNone\u001b[0m\u001b[0;34m:\u001b[0m\u001b[0;34m\u001b[0m\u001b[0m\n\u001b[1;32m    636\u001b[0m       return self._do_call(_run_fn, self._session, feed_dict, fetch_list,\n\u001b[0;32m--> 637\u001b[0;31m                            target_list, options, run_metadata)\n\u001b[0m\u001b[1;32m    638\u001b[0m     \u001b[0;32melse\u001b[0m\u001b[0;34m:\u001b[0m\u001b[0;34m\u001b[0m\u001b[0m\n\u001b[1;32m    639\u001b[0m       return self._do_call(_prun_fn, self._session, handle, feed_dict,\n",
      "\u001b[0;32m/Users/yxyang/.pyenv/versions/3.5.0/lib/python3.5/site-packages/tensorflow/python/client/session.py\u001b[0m in \u001b[0;36m_do_call\u001b[0;34m(self, fn, *args)\u001b[0m\n\u001b[1;32m    642\u001b[0m   \u001b[0;32mdef\u001b[0m \u001b[0m_do_call\u001b[0m\u001b[0;34m(\u001b[0m\u001b[0mself\u001b[0m\u001b[0;34m,\u001b[0m \u001b[0mfn\u001b[0m\u001b[0;34m,\u001b[0m \u001b[0;34m*\u001b[0m\u001b[0margs\u001b[0m\u001b[0;34m)\u001b[0m\u001b[0;34m:\u001b[0m\u001b[0;34m\u001b[0m\u001b[0m\n\u001b[1;32m    643\u001b[0m     \u001b[0;32mtry\u001b[0m\u001b[0;34m:\u001b[0m\u001b[0;34m\u001b[0m\u001b[0m\n\u001b[0;32m--> 644\u001b[0;31m       \u001b[0;32mreturn\u001b[0m \u001b[0mfn\u001b[0m\u001b[0;34m(\u001b[0m\u001b[0;34m*\u001b[0m\u001b[0margs\u001b[0m\u001b[0;34m)\u001b[0m\u001b[0;34m\u001b[0m\u001b[0m\n\u001b[0m\u001b[1;32m    645\u001b[0m     \u001b[0;32mexcept\u001b[0m \u001b[0mtf_session\u001b[0m\u001b[0;34m.\u001b[0m\u001b[0mStatusNotOK\u001b[0m \u001b[0;32mas\u001b[0m \u001b[0me\u001b[0m\u001b[0;34m:\u001b[0m\u001b[0;34m\u001b[0m\u001b[0m\n\u001b[1;32m    646\u001b[0m       \u001b[0merror_message\u001b[0m \u001b[0;34m=\u001b[0m \u001b[0mcompat\u001b[0m\u001b[0;34m.\u001b[0m\u001b[0mas_text\u001b[0m\u001b[0;34m(\u001b[0m\u001b[0me\u001b[0m\u001b[0;34m.\u001b[0m\u001b[0merror_message\u001b[0m\u001b[0;34m)\u001b[0m\u001b[0;34m\u001b[0m\u001b[0m\n",
      "\u001b[0;32m/Users/yxyang/.pyenv/versions/3.5.0/lib/python3.5/site-packages/tensorflow/python/client/session.py\u001b[0m in \u001b[0;36m_run_fn\u001b[0;34m(session, feed_dict, fetch_list, target_list, options, run_metadata)\u001b[0m\n\u001b[1;32m    626\u001b[0m       \u001b[0;32melse\u001b[0m\u001b[0;34m:\u001b[0m\u001b[0;34m\u001b[0m\u001b[0m\n\u001b[1;32m    627\u001b[0m         return tf_session.TF_Run(\n\u001b[0;32m--> 628\u001b[0;31m             session, None, feed_dict, fetch_list, target_list, None)\n\u001b[0m\u001b[1;32m    629\u001b[0m \u001b[0;34m\u001b[0m\u001b[0m\n\u001b[1;32m    630\u001b[0m     \u001b[0;32mdef\u001b[0m \u001b[0m_prun_fn\u001b[0m\u001b[0;34m(\u001b[0m\u001b[0msession\u001b[0m\u001b[0;34m,\u001b[0m \u001b[0mhandle\u001b[0m\u001b[0;34m,\u001b[0m \u001b[0mfeed_dict\u001b[0m\u001b[0;34m,\u001b[0m \u001b[0mfetch_list\u001b[0m\u001b[0;34m)\u001b[0m\u001b[0;34m:\u001b[0m\u001b[0;34m\u001b[0m\u001b[0m\n",
      "\u001b[0;31mKeyboardInterrupt\u001b[0m: "
     ]
    }
   ],
   "source": [
    "init = tf.initialize_all_variables()\n",
    "sess.run(init)\n",
    "num_iter = 10000\n",
    "sample_rate = 10 # Per Sample\n",
    "batch_size = 50\n",
    "cost_history = []\n",
    "for i in range(num_iter):\n",
    "    currX, curry = nextBatch(batch_size)\n",
    "    cost_history.append(loss.eval(feed_dict={X:currX, \\\n",
    "                                          y_: curry, \\\n",
    "                                          keep_prob: 1}))\n",
    "    #print(cost_history[-1])\n",
    "    #print(W_fc2.eval())\n",
    "    print(\"Train cost: \" + str(cost_history[-1]))\n",
    "\n",
    "    if (i % sample_rate == 0):\n",
    "        print(str(i) + \" out of \" + str(num_iter) + \" iterations have completed.\")\n",
    "        cv_cost = loss.eval(feed_dict={X:Xcv, \\\n",
    "                                               y_: ycv, \\\n",
    "                                               keep_prob: 1})\n",
    "        print(\"CV cost: \" + str(cv_cost))\n",
    "        \n",
    "    sess.run(train_step, feed_dict={X:currX, y_: curry, keep_prob:1})"
   ]
  },
  {
   "cell_type": "markdown",
   "metadata": {
    "collapsed": false
   },
   "source": [
    "init = tf.initialize_all_variables()\n",
    "sess.run(init)\n",
    "loss.eval(feed_dict={X:Xtrain, \\\n",
    "                                          y_: ytrain, \\\n",
    "                                          keep_prob: 1.0})"
   ]
  },
  {
   "cell_type": "code",
   "execution_count": 150,
   "metadata": {
    "collapsed": false
   },
   "outputs": [],
   "source": [
    "Xs, ys = Xtrain[[-1],:], ytrain[[-1], :]\n",
    "ypred = y.eval(feed_dict={X:Xs, y_:ys, keep_prob:1.0})"
   ]
  },
  {
   "cell_type": "code",
   "execution_count": 151,
   "metadata": {
    "collapsed": false
   },
   "outputs": [
    {
     "name": "stdout",
     "output_type": "stream",
     "text": [
      "Predicted value is: [[ 1.20348179 -1.99820268  1.74368382  0.08602133  0.19297805  1.75704432]]\n",
      "Actual value is: [[ 1.42 -2.49  1.93  0.2   0.34  2.07]]\n"
     ]
    }
   ],
   "source": [
    "print(\"Predicted value is: \" + str(ypred))\n",
    "print(\"Actual value is: \" + str(ys))"
   ]
  },
  {
   "cell_type": "code",
   "execution_count": 140,
   "metadata": {
    "collapsed": false
   },
   "outputs": [
    {
     "data": {
      "text/plain": [
       "2148"
      ]
     },
     "execution_count": 140,
     "metadata": {},
     "output_type": "execute_result"
    }
   ],
   "source": [
    "n"
   ]
  },
  {
   "cell_type": "code",
   "execution_count": null,
   "metadata": {
    "collapsed": true
   },
   "outputs": [],
   "source": []
  },
  {
   "cell_type": "code",
   "execution_count": null,
   "metadata": {
    "collapsed": true
   },
   "outputs": [],
   "source": []
  }
 ],
 "metadata": {
  "kernelspec": {
   "display_name": "Python 3",
   "language": "python",
   "name": "python3"
  },
  "language_info": {
   "codemirror_mode": {
    "name": "ipython",
    "version": 3
   },
   "file_extension": ".py",
   "mimetype": "text/x-python",
   "name": "python",
   "nbconvert_exporter": "python",
   "pygments_lexer": "ipython3",
   "version": "3.5.0"
  }
 },
 "nbformat": 4,
 "nbformat_minor": 0
}
